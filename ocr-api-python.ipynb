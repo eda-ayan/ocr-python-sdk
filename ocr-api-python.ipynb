{
 "cells": [
  {
   "cell_type": "code",
   "execution_count": 1,
   "id": "c024d95b",
   "metadata": {},
   "outputs": [],
   "source": [
    "from azure.cognitiveservices.vision.customvision.training import CustomVisionTrainingClient\n",
    "from azure.cognitiveservices.vision.customvision.prediction import CustomVisionPredictionClient\n",
    "from azure.cognitiveservices.vision.customvision.training.models import ImageFileCreateBatch, ImageFileCreateEntry, Region\n",
    "from msrest.authentication import ApiKeyCredentials\n",
    "import os, time, uuid\n",
    "import configparser\n",
    "import os\n",
    "\n",
    "import matplotlib.pyplot as plt\n",
    "import numpy as np\n",
    "import requests\n",
    "from matplotlib.patches import Polygon\n",
    "\n",
    "import cv2\n",
    "import imutils"
   ]
  },
  {
   "cell_type": "code",
   "execution_count": 15,
   "id": "fc6de432",
   "metadata": {},
   "outputs": [
    {
     "name": "stdout",
     "output_type": "stream",
     "text": [
      "(1L.5\n",
      "OSEK9320\n",
      "04321\n",
      "IL'S\n"
     ]
    }
   ],
   "source": [
    "target_image_path= \"<local-path-to-image>\"\n",
    "data = open(target_image_path, 'rb').read()\n",
    "\n",
    "img = cv2.imdecode(np.array(bytearray(data), dtype='uint8'), \n",
    "    cv2.IMREAD_COLOR)\n",
    "crop_bytes =bytes(cv2.imencode('.jpg', img)[1])\n",
    "\n",
    " # make a call to the text_recognition_url\n",
    "text_recognition_url = \"https://<name-of-resource>.cognitiveservices.azure.com/vision/v3.2/read/analyze\"\n",
    "response = requests.post(\n",
    "    url=text_recognition_url, \n",
    "    data=crop_bytes, \n",
    "    headers={\n",
    "        'Ocp-Apim-Subscription-Key': \"<subscription-key>\", \n",
    "        'Content-Type': 'application/octet-stream'})\n",
    "\n",
    "response.raise_for_status()\n",
    "operation_url = response.headers[\"Operation-Location\"]\n",
    "\n",
    " # The recognized text isn't immediately available, so poll to wait for completion.\n",
    "analysis = {}\n",
    "poll = True\n",
    "while (poll):\n",
    "    response_final = requests.get(\n",
    "        response.headers[\"Operation-Location\"], \n",
    "        headers={'Ocp-Apim-Subscription-Key': \"<subscription-key>\"})\n",
    "    analysis = response_final.json()\n",
    "    time.sleep(1)\n",
    "    if (\"status\" in analysis and analysis['status'] == 'succeeded'):\n",
    "        poll = False\n",
    "    if (\"recognitionResults\" in analysis):\n",
    "        poll = False\n",
    "    if (\"status\" in analysis and analysis['status'] == 'Failed'):\n",
    "        poll = False       \n",
    "\n",
    "#print(analysis)\n",
    "result = analysis['analyzeResult']['readResults'][0]['lines']\n",
    "\n",
    "for line in result:\n",
    "    print(line['text'])"
   ]
  },
  {
   "cell_type": "code",
   "execution_count": null,
   "id": "a65c916f",
   "metadata": {},
   "outputs": [],
   "source": []
  }
 ],
 "metadata": {
  "kernelspec": {
   "display_name": "Python 3",
   "language": "python",
   "name": "python3"
  },
  "language_info": {
   "codemirror_mode": {
    "name": "ipython",
    "version": 3
   },
   "file_extension": ".py",
   "mimetype": "text/x-python",
   "name": "python",
   "nbconvert_exporter": "python",
   "pygments_lexer": "ipython3",
   "version": "3.8.8"
  }
 },
 "nbformat": 4,
 "nbformat_minor": 5
}
